{
 "cells": [
  {
   "cell_type": "code",
   "execution_count": 1,
   "metadata": {},
   "outputs": [],
   "source": [
    "import psycopg2\n",
    "from psycopg2 import sql\n",
    "\n",
    "DB_HOST = \"db\"  # Service name defined in docker-compose\n",
    "DB_PORT = \"5432\"\n",
    "DB_NAME = \"sampledb\"\n",
    "DB_USER = \"user\"\n",
    "DB_PASSWORD = \"password\"\n",
    "\n",
    "def connect_to_db():\n",
    "    try:\n",
    "        conn = psycopg2.connect(\n",
    "            dbname=DB_NAME,\n",
    "            user=DB_USER,\n",
    "            password=DB_PASSWORD,\n",
    "            host=DB_HOST,\n",
    "            port=DB_PORT\n",
    "        )\n",
    "        return conn\n",
    "    except Exception as e:\n",
    "        print(f\"Error connecting to database: {e}\")\n",
    "        return None\n",
    "\n",
    "def main():\n",
    "    conn = connect_to_db()\n",
    "    if conn:\n",
    "\n",
    "        cursor = conn.cursor()\n",
    "\n",
    "        # Fetch and print all data from users table\n",
    "        cursor.execute(\"SELECT * FROM users LIMIT 10;\")  # Limiting to first 10 rows for brevity\n",
    "        users_data = cursor.fetchall()\n",
    "        print(\"Users Table Data:\")\n",
    "        for row in users_data:\n",
    "            print(row)\n",
    "\n",
    "        # Fetch and print all data from orders table\n",
    "        cursor.execute(\"SELECT * FROM orders LIMIT 10;\")  # Limiting to first 10 rows for brevity\n",
    "        orders_data = cursor.fetchall()\n",
    "        print(\"Orders Table Data:\")\n",
    "        for row in orders_data:\n",
    "            print(row)\n",
    "\n",
    "        cursor.close()        \n",
    "        conn.close()\n",
    "\n",
    "main()"
   ]
  },
  {
   "cell_type": "code",
   "execution_count": null,
   "metadata": {},
   "outputs": [],
   "source": []
  }
 ],
 "metadata": {
  "kernelspec": {
   "display_name": "Python 3",
   "language": "python",
   "name": "python3"
  },
  "language_info": {
   "codemirror_mode": {
    "name": "ipython",
    "version": 3
   },
   "file_extension": ".py",
   "mimetype": "text/x-python",
   "name": "python",
   "nbconvert_exporter": "python",
   "pygments_lexer": "ipython3",
   "version": "3.10.16"
  }
 },
 "nbformat": 4,
 "nbformat_minor": 2
}
