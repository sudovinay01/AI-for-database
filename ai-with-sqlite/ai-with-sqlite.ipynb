{
 "cells": [
  {
   "cell_type": "code",
   "execution_count": 1,
   "metadata": {},
   "outputs": [
    {
     "name": "stderr",
     "output_type": "stream",
     "text": [
      "/usr/local/lib/python3.13/site-packages/tqdm/auto.py:21: TqdmWarning: IProgress not found. Please update jupyter and ipywidgets. See https://ipywidgets.readthedocs.io/en/stable/user_install.html\n",
      "  from .autonotebook import tqdm as notebook_tqdm\n"
     ]
    }
   ],
   "source": [
    "import google.generativeai as genai"
   ]
  },
  {
   "cell_type": "code",
   "execution_count": 2,
   "metadata": {},
   "outputs": [],
   "source": [
    "# get api key from https://aistudio.google.com/app/apikey and place in .env\n",
    "# for more details https://ai.google.dev/gemini-api/docs/api-key\n",
    "import os\n",
    "from dotenv import load_dotenv, dotenv_values \n",
    "load_dotenv()\n",
    "if(os.getenv(\"GOOGLE_API_KEY\")==\"\"):\n",
    "    raise RuntimeError(\"GOOGLE_API_KEY in .env file not provided.\")"
   ]
  },
  {
   "cell_type": "code",
   "execution_count": 3,
   "metadata": {},
   "outputs": [],
   "source": [
    "%load_ext sql\n",
    "%sql sqlite:///sample.db"
   ]
  },
  {
   "cell_type": "code",
   "execution_count": 4,
   "metadata": {},
   "outputs": [
    {
     "name": "stdout",
     "output_type": "stream",
     "text": [
      " * sqlite:///sample.db\n",
      "Done.\n",
      "Done.\n",
      "Done.\n",
      "3 rows affected.\n",
      "3 rows affected.\n",
      "3 rows affected.\n"
     ]
    },
    {
     "data": {
      "text/plain": [
       "[]"
      ]
     },
     "execution_count": 4,
     "metadata": {},
     "output_type": "execute_result"
    }
   ],
   "source": [
    "%%sql\n",
    "-- Create the 'products' table\n",
    "CREATE TABLE IF NOT EXISTS products (\n",
    "  \tproduct_id INTEGER PRIMARY KEY AUTOINCREMENT,\n",
    "  \tproduct_name VARCHAR(255) NOT NULL,\n",
    "  \tprice DECIMAL(10, 2) NOT NULL\n",
    "  );\n",
    "\n",
    "-- Create the 'staff' table\n",
    "CREATE TABLE IF NOT EXISTS staff (\n",
    "  \tstaff_id INTEGER PRIMARY KEY AUTOINCREMENT,\n",
    "  \tfirst_name VARCHAR(255) NOT NULL,\n",
    "  \tlast_name VARCHAR(255) NOT NULL\n",
    "  );\n",
    "\n",
    "-- Create the 'orders' table\n",
    "CREATE TABLE IF NOT EXISTS orders (\n",
    "  \torder_id INTEGER PRIMARY KEY AUTOINCREMENT,\n",
    "  \tcustomer_name VARCHAR(255) NOT NULL,\n",
    "  \tstaff_id INTEGER NOT NULL,\n",
    "  \tproduct_id INTEGER NOT NULL,\n",
    "  \tFOREIGN KEY (staff_id) REFERENCES staff (staff_id),\n",
    "  \tFOREIGN KEY (product_id) REFERENCES products (product_id)\n",
    "  );\n",
    "\n",
    "-- Insert data into the 'products' table\n",
    "INSERT INTO products (product_name, price) VALUES\n",
    "  \t('Laptop', 799.99),\n",
    "  \t('Keyboard', 129.99),\n",
    "  \t('Mouse', 29.99);\n",
    "\n",
    "-- Insert data into the 'staff' table\n",
    "INSERT INTO staff (first_name, last_name) VALUES\n",
    "  \t('Alice', 'Smith'),\n",
    "  \t('Bob', 'Johnson'),\n",
    "  \t('Charlie', 'Williams');\n",
    "\n",
    "-- Insert data into the 'orders' table\n",
    "INSERT INTO orders (customer_name, staff_id, product_id) VALUES\n",
    "  \t('David Lee', 1, 1),\n",
    "  \t('Emily Chen', 2, 2),\n",
    "  \t('Frank Brown', 1, 3);"
   ]
  },
  {
   "cell_type": "code",
   "execution_count": 5,
   "metadata": {},
   "outputs": [],
   "source": [
    "import sqlite3\n",
    "\n",
    "db_file = \"sample.db\"\n",
    "db_conn = sqlite3.connect(db_file)"
   ]
  },
  {
   "cell_type": "code",
   "execution_count": 6,
   "metadata": {},
   "outputs": [
    {
     "name": "stdout",
     "output_type": "stream",
     "text": [
      " - DB CALL: list_tables\n"
     ]
    },
    {
     "data": {
      "text/plain": [
       "['products', 'sqlite_sequence', 'staff', 'orders']"
      ]
     },
     "execution_count": 6,
     "metadata": {},
     "output_type": "execute_result"
    }
   ],
   "source": [
    "def list_tables() -> list[str]:\n",
    "    \"\"\"Retrieve the names of all tables in the database.\"\"\"\n",
    "    # Include print logging statements so you can see when functions are being called.\n",
    "    print(' - DB CALL: list_tables')\n",
    "\n",
    "    cursor = db_conn.cursor()\n",
    "\n",
    "    # Fetch the table names.\n",
    "    cursor.execute(\"SELECT name FROM sqlite_master WHERE type='table';\")\n",
    "\n",
    "    tables = cursor.fetchall()\n",
    "    return [t[0] for t in tables]\n",
    "\n",
    "\n",
    "list_tables()"
   ]
  },
  {
   "cell_type": "code",
   "execution_count": 7,
   "metadata": {},
   "outputs": [
    {
     "name": "stdout",
     "output_type": "stream",
     "text": [
      " - DB CALL: describe_table\n"
     ]
    },
    {
     "data": {
      "text/plain": [
       "[('product_id', 'INTEGER'),\n",
       " ('product_name', 'VARCHAR(255)'),\n",
       " ('price', 'DECIMAL(10, 2)')]"
      ]
     },
     "execution_count": 7,
     "metadata": {},
     "output_type": "execute_result"
    }
   ],
   "source": [
    "def describe_table(table_name: str) -> list[tuple[str, str]]:\n",
    "    \"\"\"Look up the table schema.\n",
    "\n",
    "    Returns:\n",
    "      List of columns, where each entry is a tuple of (column, type).\n",
    "    \"\"\"\n",
    "    print(' - DB CALL: describe_table')\n",
    "\n",
    "    cursor = db_conn.cursor()\n",
    "\n",
    "    cursor.execute(f\"PRAGMA table_info({table_name});\")\n",
    "\n",
    "    schema = cursor.fetchall()\n",
    "    # [column index, column name, column type, ...]\n",
    "    return [(col[1], col[2]) for col in schema]\n",
    "\n",
    "\n",
    "describe_table(\"products\")"
   ]
  },
  {
   "cell_type": "code",
   "execution_count": 8,
   "metadata": {},
   "outputs": [
    {
     "name": "stdout",
     "output_type": "stream",
     "text": [
      " - DB CALL: execute_query\n"
     ]
    },
    {
     "data": {
      "text/plain": [
       "[(1, 'Laptop', 799.99),\n",
       " (2, 'Keyboard', 129.99),\n",
       " (3, 'Mouse', 29.99),\n",
       " (4, 'Laptop', 799.99),\n",
       " (5, 'Keyboard', 129.99),\n",
       " (6, 'Mouse', 29.99)]"
      ]
     },
     "execution_count": 8,
     "metadata": {},
     "output_type": "execute_result"
    }
   ],
   "source": [
    "def execute_query(sql: str) -> list[list[str]]:\n",
    "    \"\"\"Execute a SELECT statement, returning the results.\"\"\"\n",
    "    print(' - DB CALL: execute_query')\n",
    "\n",
    "    cursor = db_conn.cursor()\n",
    "\n",
    "    cursor.execute(sql)\n",
    "    return cursor.fetchall()\n",
    "\n",
    "\n",
    "execute_query(\"select * from products\")"
   ]
  },
  {
   "cell_type": "code",
   "execution_count": 9,
   "metadata": {},
   "outputs": [],
   "source": [
    "# These are the Python functions defined above.\n",
    "db_tools = [list_tables, describe_table, execute_query]\n",
    "\n",
    "instruction = \"\"\"You are a helpful chatbot that can interact with an SQL database for a computer\n",
    "store. You will take the users questions and turn them into SQL queries using the tools\n",
    "available. Once you have the information you need, you will answer the user's question using\n",
    "the data returned. Use list_tables to see what tables are present, describe_table to understand\n",
    "the schema, and execute_query to issue an SQL SELECT query.\"\"\"\n",
    "\n",
    "model = genai.GenerativeModel(\n",
    "    \"models/gemini-1.5-flash-latest\", tools=db_tools, system_instruction=instruction\n",
    ")\n",
    "\n",
    "# Define a retry policy. The model might make multiple consecutive calls automatically\n",
    "# for a complex query, this ensures the client retries if it hits quota limits.\n",
    "from google.api_core import retry\n",
    "\n",
    "retry_policy = {\"retry\": retry.Retry(predicate=retry.if_transient_error)}\n",
    "\n",
    "# Start a chat with automatic function calling enabled.\n",
    "chat = model.start_chat(enable_automatic_function_calling=True)"
   ]
  },
  {
   "cell_type": "code",
   "execution_count": 10,
   "metadata": {},
   "outputs": [
    {
     "name": "stdout",
     "output_type": "stream",
     "text": [
      " - DB CALL: list_tables\n",
      " - DB CALL: describe_table\n",
      " - DB CALL: execute_query\n",
      "The cheapest product is the Mouse, which costs $29.99.\n",
      "\n"
     ]
    }
   ],
   "source": [
    "resp = chat.send_message(\"What is the cheapest product?\", request_options=retry_policy)\n",
    "print(resp.text)"
   ]
  },
  {
   "cell_type": "code",
   "execution_count": 11,
   "metadata": {},
   "outputs": [
    {
     "name": "stdout",
     "output_type": "stream",
     "text": [
      "The Mouse costs $29.99.\n",
      "\n"
     ]
    }
   ],
   "source": [
    "resp = chat.send_message(\"and how much is it?\", request_options=retry_policy)\n",
    "print(resp.text)"
   ]
  },
  {
   "cell_type": "code",
   "execution_count": 12,
   "metadata": {},
   "outputs": [
    {
     "name": "stdout",
     "output_type": "stream",
     "text": [
      " - DB CALL: list_tables\n",
      " - DB CALL: describe_table\n",
      " - DB CALL: describe_table\n",
      " - DB CALL: describe_table\n",
      " - DB CALL: execute_query\n",
      "Alice Smith sold the cheapest product.\n"
     ]
    }
   ],
   "source": [
    "model = genai.GenerativeModel(\n",
    "    \"models/gemini-1.5-pro-latest\", tools=db_tools, system_instruction=instruction\n",
    ")\n",
    "\n",
    "chat = model.start_chat(enable_automatic_function_calling=True)\n",
    "response = chat.send_message('Which salesperson sold the cheapest product?', request_options=retry_policy)\n",
    "print(response.text)"
   ]
  },
  {
   "cell_type": "code",
   "execution_count": 13,
   "metadata": {},
   "outputs": [
    {
     "name": "stdout",
     "output_type": "stream",
     "text": [
      "User:\n",
      "  \"Which salesperson sold the cheapest product?\"\n",
      "\n",
      "Model:\n",
      "  Function call: list_tables()\n",
      "\n",
      "User:\n",
      "  Function response:\n",
      "    name: \"list_tables\"\n",
      "    response {\n",
      "      fields {\n",
      "        key: \"result\"\n",
      "        value {\n",
      "          list_value {\n",
      "            values {\n",
      "              string_value: \"products\"\n",
      "            }\n",
      "            values {\n",
      "              string_value: \"sqlite_sequence\"\n",
      "            }\n",
      "            values {\n",
      "              string_value: \"staff\"\n",
      "            }\n",
      "            values {\n",
      "              string_value: \"orders\"\n",
      "            }\n",
      "          }\n",
      "        }\n",
      "      }\n",
      "    }\n",
      "\n",
      "\n",
      "Model:\n",
      "  Function call: describe_table(table_name=products)\n",
      "\n",
      "User:\n",
      "  Function response:\n",
      "    name: \"describe_table\"\n",
      "    response {\n",
      "      fields {\n",
      "        key: \"result\"\n",
      "        value {\n",
      "          list_value {\n",
      "            values {\n",
      "              list_value {\n",
      "                values {\n",
      "                  string_value: \"product_id\"\n",
      "                }\n",
      "                values {\n",
      "                  string_value: \"INTEGER\"\n",
      "                }\n",
      "              }\n",
      "            }\n",
      "            values {\n",
      "              list_value {\n",
      "                values {\n",
      "                  string_value: \"product_name\"\n",
      "                }\n",
      "                values {\n",
      "                  string_value: \"VARCHAR(255)\"\n",
      "                }\n",
      "              }\n",
      "            }\n",
      "            values {\n",
      "              list_value {\n",
      "                values {\n",
      "                  string_value: \"price\"\n",
      "                }\n",
      "                values {\n",
      "                  string_value: \"DECIMAL(10, 2)\"\n",
      "                }\n",
      "              }\n",
      "            }\n",
      "          }\n",
      "        }\n",
      "      }\n",
      "    }\n",
      "\n",
      "\n",
      "Model:\n",
      "  Function call: describe_table(table_name=orders)\n",
      "\n",
      "User:\n",
      "  Function response:\n",
      "    name: \"describe_table\"\n",
      "    response {\n",
      "      fields {\n",
      "        key: \"result\"\n",
      "        value {\n",
      "          list_value {\n",
      "            values {\n",
      "              list_value {\n",
      "                values {\n",
      "                  string_value: \"order_id\"\n",
      "                }\n",
      "                values {\n",
      "                  string_value: \"INTEGER\"\n",
      "                }\n",
      "              }\n",
      "            }\n",
      "            values {\n",
      "              list_value {\n",
      "                values {\n",
      "                  string_value: \"customer_name\"\n",
      "                }\n",
      "                values {\n",
      "                  string_value: \"VARCHAR(255)\"\n",
      "                }\n",
      "              }\n",
      "            }\n",
      "            values {\n",
      "              list_value {\n",
      "                values {\n",
      "                  string_value: \"staff_id\"\n",
      "                }\n",
      "                values {\n",
      "                  string_value: \"INTEGER\"\n",
      "                }\n",
      "              }\n",
      "            }\n",
      "            values {\n",
      "              list_value {\n",
      "                values {\n",
      "                  string_value: \"product_id\"\n",
      "                }\n",
      "                values {\n",
      "                  string_value: \"INTEGER\"\n",
      "                }\n",
      "              }\n",
      "            }\n",
      "          }\n",
      "        }\n",
      "      }\n",
      "    }\n",
      "\n",
      "\n",
      "Model:\n",
      "  Function call: describe_table(table_name=staff)\n",
      "\n",
      "User:\n",
      "  Function response:\n",
      "    name: \"describe_table\"\n",
      "    response {\n",
      "      fields {\n",
      "        key: \"result\"\n",
      "        value {\n",
      "          list_value {\n",
      "            values {\n",
      "              list_value {\n",
      "                values {\n",
      "                  string_value: \"staff_id\"\n",
      "                }\n",
      "                values {\n",
      "                  string_value: \"INTEGER\"\n",
      "                }\n",
      "              }\n",
      "            }\n",
      "            values {\n",
      "              list_value {\n",
      "                values {\n",
      "                  string_value: \"first_name\"\n",
      "                }\n",
      "                values {\n",
      "                  string_value: \"VARCHAR(255)\"\n",
      "                }\n",
      "              }\n",
      "            }\n",
      "            values {\n",
      "              list_value {\n",
      "                values {\n",
      "                  string_value: \"last_name\"\n",
      "                }\n",
      "                values {\n",
      "                  string_value: \"VARCHAR(255)\"\n",
      "                }\n",
      "              }\n",
      "            }\n",
      "          }\n",
      "        }\n",
      "      }\n",
      "    }\n",
      "\n",
      "\n",
      "Model:\n",
      "  Function call: execute_query(sql=SELECT first_name, last_name FROM staff WHERE staff_id = (SELECT staff_id FROM orders WHERE product_id = (SELECT product_id FROM products ORDER BY price ASC LIMIT 1)))\n",
      "\n",
      "User:\n",
      "  Function response:\n",
      "    name: \"execute_query\"\n",
      "    response {\n",
      "      fields {\n",
      "        key: \"result\"\n",
      "        value {\n",
      "          list_value {\n",
      "            values {\n",
      "              list_value {\n",
      "                values {\n",
      "                  string_value: \"Alice\"\n",
      "                }\n",
      "                values {\n",
      "                  string_value: \"Smith\"\n",
      "                }\n",
      "              }\n",
      "            }\n",
      "          }\n",
      "        }\n",
      "      }\n",
      "    }\n",
      "\n",
      "\n",
      "Model:\n",
      "  \"Alice Smith sold the cheapest product.\"\n",
      "\n"
     ]
    }
   ],
   "source": [
    "import textwrap\n",
    "\n",
    "\n",
    "def print_chat_turns(chat):\n",
    "    \"\"\"Prints out each turn in the chat history, including function calls and responses.\"\"\"\n",
    "    for event in chat.history:\n",
    "        print(f\"{event.role.capitalize()}:\")\n",
    "\n",
    "        for part in event.parts:\n",
    "            if txt := part.text:\n",
    "                print(f'  \"{txt}\"')\n",
    "            elif fn := part.function_call:\n",
    "                args = \", \".join(f\"{key}={val}\" for key, val in fn.args.items())\n",
    "                print(f\"  Function call: {fn.name}({args})\")\n",
    "            elif resp := part.function_response:\n",
    "                print(\"  Function response:\")\n",
    "                print(textwrap.indent(str(resp), \"    \"))\n",
    "\n",
    "        print()\n",
    "\n",
    "\n",
    "print_chat_turns(chat)"
   ]
  },
  {
   "cell_type": "code",
   "execution_count": null,
   "metadata": {},
   "outputs": [],
   "source": []
  }
 ],
 "metadata": {
  "kernelspec": {
   "display_name": "Python 3",
   "language": "python",
   "name": "python3"
  },
  "language_info": {
   "codemirror_mode": {
    "name": "ipython",
    "version": 3
   },
   "file_extension": ".py",
   "mimetype": "text/x-python",
   "name": "python",
   "nbconvert_exporter": "python",
   "pygments_lexer": "ipython3",
   "version": "3.13.1"
  }
 },
 "nbformat": 4,
 "nbformat_minor": 2
}
