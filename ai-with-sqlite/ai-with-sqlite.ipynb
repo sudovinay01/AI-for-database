{
 "cells": [
  {
   "cell_type": "code",
   "execution_count": null,
   "metadata": {},
   "outputs": [],
   "source": [
    "import google.generativeai as genai"
   ]
  },
  {
   "cell_type": "code",
   "execution_count": null,
   "metadata": {},
   "outputs": [],
   "source": [
    "# get api key from https://aistudio.google.com/app/apikey and place in .env\n",
    "# for more details https://ai.google.dev/gemini-api/docs/api-key\n",
    "import os\n",
    "from dotenv import load_dotenv, dotenv_values \n",
    "load_dotenv()\n",
    "if(os.getenv(\"GOOGLE_API_KEY\")==\"\"):\n",
    "    raise RuntimeError(\"GOOGLE_API_KEY in .env file not provided.\")"
   ]
  },
  {
   "cell_type": "code",
   "execution_count": null,
   "metadata": {},
   "outputs": [],
   "source": []
  }
 ],
 "metadata": {
  "kernelspec": {
   "display_name": "Python 3",
   "language": "python",
   "name": "python3"
  },
  "language_info": {
   "codemirror_mode": {
    "name": "ipython",
    "version": 3
   },
   "file_extension": ".py",
   "mimetype": "text/x-python",
   "name": "python",
   "nbconvert_exporter": "python",
   "pygments_lexer": "ipython3",
   "version": "3.13.1"
  }
 },
 "nbformat": 4,
 "nbformat_minor": 2
}
